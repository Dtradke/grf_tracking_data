{
 "nbformat": 4,
 "nbformat_minor": 0,
 "metadata": {
  "colab": {
   "name": "gfootball_example_from_scratch.ipynb",
   "provenance": [],
   "collapsed_sections": []
  },
  "kernelspec": {
   "name": "python3",
   "display_name": "Python 3"
  }
 },
 "cells": [
  {
   "cell_type": "markdown",
   "metadata": {
    "id": "VLUqsUmXvf2_",
    "colab_type": "text"
   },
   "source": [
    "# Compiling GRF from scratch.\n",
    "\n",
    "Can be used to create pre-build shared libraries.\n",
    "\n"
   ]
  },
  {
   "cell_type": "code",
   "metadata": {
    "id": "AakcNSxB-D3P",
    "colab_type": "code",
    "outputId": "ac3b6f49-2aa5-4569-8738-2b696a9ed7e7",
    "colab": {
     "base_uri": "https://localhost:8080/",
     "height": 1000
    }
   },
   "source": [
    "! sudo apt-get update\n",
    "! sudo apt-get install git cmake build-essential libgl1-mesa-dev libsdl2-dev \\\n",
    "libsdl2-image-dev libsdl2-ttf-dev libsdl2-gfx-dev libboost-all-dev \\\n",
    "libdirectfb-dev libst-dev mesa-utils xvfb x11vnc libsdl-sge-dev python3-pip "
   ],
   "execution_count": 1,
   "outputs": []
  },
  {
   "cell_type": "code",
   "metadata": {
    "id": "3GjAo6Y6-LJm",
    "colab_type": "code",
    "colab": {
     "base_uri": "https://localhost:8080/",
     "height": 462
    },
    "outputId": "37b447b1-f88a-4db5-f94d-5de10dc6f837"
   },
   "source": [
    "## Make sure to set the correct BRANCH (-b XXX)\n",
    "! git clone -b v2.9 https://github.com/google-research/football.git\n",
    "! cd football && python3 -m pip install ."
   ],
   "execution_count": 3,
   "outputs": []
  },
  {
   "cell_type": "code",
   "metadata": {
    "id": "V2MEON2i-Q4s",
    "colab_type": "code",
    "outputId": "cce73a10-d6fe-485e-8a87-791f5019194b",
    "colab": {
     "base_uri": "https://localhost:8080/",
     "height": 68
    }
   },
   "source": [
    "## Small code example to make sure that everything works.\n",
    "import gfootball.env as football_env\n",
    "env = football_env.create_environment(env_name=\"academy_empty_goal_close\", stacked=False, logdir='/tmp/football', write_goal_dumps=False, write_full_episode_dumps=False, render=False)\n",
    "env.reset()\n",
    "steps = 0\n",
    "while True:\n",
    "  obs, rew, done, info = env.step(env.action_space.sample())\n",
    "  steps += 1\n",
    "  if steps % 100 == 0:\n",
    "    print(\"Step %d Reward: %f\" % (steps, rew))\n",
    "  if done:\n",
    "    break\n",
    "\n",
    "print(\"Steps: %d Reward: %.2f\" % (steps, rew))"
   ],
   "execution_count": 4,
   "outputs": []
  },
  {
   "cell_type": "code",
   "metadata": {
    "id": "OVc80iJfGlWE",
    "colab_type": "code",
    "colab": {}
   },
   "source": [
    "! cp /usr/local/lib/python3.6/dist-packages/gfootball_engine/_gameplayfootball.so /root/prebuilt_gameplayfootball"
   ],
   "execution_count": 0,
   "outputs": []
  },
  {
   "cell_type": "code",
   "metadata": {
    "id": "rl6KRPLesF70",
    "colab_type": "code",
    "colab": {}
   },
   "source": [
    "# Now download the file from:\n",
    "# /root/prebuilt_gameplay_football (using the menu on the left side)"
   ],
   "execution_count": 0,
   "outputs": []
  }
 ]
}
